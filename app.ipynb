{
  "nbformat": 4,
  "nbformat_minor": 0,
  "metadata": {
    "colab": {
      "provenance": [],
      "gpuType": "T4"
    },
    "kernelspec": {
      "name": "python3",
      "display_name": "Python 3"
    },
    "language_info": {
      "name": "python"
    },
    "accelerator": "GPU"
  },
  "cells": [
    {
      "cell_type": "code",
      "execution_count": 1,
      "metadata": {
        "id": "CmvCmSCdbbQG"
      },
      "outputs": [],
      "source": [
        "import numpy as np\n",
        "import pandas as pd\n"
      ]
    },
    {
      "cell_type": "code",
      "source": [
        "!pip install -q streamlit"
      ],
      "metadata": {
        "colab": {
          "base_uri": "https://localhost:8080/"
        },
        "id": "RYF7o3BOb0Se",
        "outputId": "466f141d-f860-46ed-a40a-281e2939a629"
      },
      "execution_count": 2,
      "outputs": [
        {
          "output_type": "stream",
          "name": "stdout",
          "text": [
            "\u001b[2K     \u001b[90m━━━━━━━━━━━━━━━━━━━━━━━━━━━━━━━━━━━━━━━━\u001b[0m \u001b[32m41.9/41.9 kB\u001b[0m \u001b[31m1.8 MB/s\u001b[0m eta \u001b[36m0:00:00\u001b[0m\n",
            "\u001b[2K   \u001b[90m━━━━━━━━━━━━━━━━━━━━━━━━━━━━━━━━━━━━━━━━\u001b[0m \u001b[32m8.7/8.7 MB\u001b[0m \u001b[31m62.2 MB/s\u001b[0m eta \u001b[36m0:00:00\u001b[0m\n",
            "\u001b[2K   \u001b[90m━━━━━━━━━━━━━━━━━━━━━━━━━━━━━━━━━━━━━━━━\u001b[0m \u001b[32m6.9/6.9 MB\u001b[0m \u001b[31m92.9 MB/s\u001b[0m eta \u001b[36m0:00:00\u001b[0m\n",
            "\u001b[2K   \u001b[90m━━━━━━━━━━━━━━━━━━━━━━━━━━━━━━━━━━━━━━━━\u001b[0m \u001b[32m79.3/79.3 kB\u001b[0m \u001b[31m4.6 MB/s\u001b[0m eta \u001b[36m0:00:00\u001b[0m\n",
            "\u001b[?25h"
          ]
        }
      ]
    },
    {
      "cell_type": "markdown",
      "source": [
        "CustomerId\tSurname\tCreditScore\tGeography\tGender\tAge\tTenure\tBalance\tNumOfProducts\tHasCrCard\tIsActiveMember\tEstimatedSalary\tExited\n"
      ],
      "metadata": {
        "id": "MzUIpGVMh3PN"
      }
    },
    {
      "cell_type": "code",
      "source": [
        "import keras\n"
      ],
      "metadata": {
        "id": "w31f091cb6x7"
      },
      "execution_count": 3,
      "outputs": []
    },
    {
      "cell_type": "code",
      "source": [
        "%%writefile app.py\n",
        "import keras\n",
        "from keras.models import load_model\n",
        "\n",
        "model = load_model('/content/BankExit.h5')\n",
        "import streamlit as st\n",
        "a=[0,0,0,0,0,0,0,0,0,0]\n",
        "credit = st.number_input('Credit Score')\n",
        "geo = st.number_input('0:france 1:spain 2:germany')\n",
        "gen = st.number_input('Gender 0 for female 1 for male')\n",
        "age = st.number_input('Age')\n",
        "ten = st.number_input('tenure')\n",
        "bal = st.number_input('Bal ance')\n",
        "prod = st.number_input('Products')\n",
        "card = st.number_input('Has card')\n",
        "act = st.number_input('Is active')\n",
        "sal = st.number_input('Salary')\n",
        "a[0]=credit\n",
        "a[1]=geo\n",
        "a[2]=gen\n",
        "a[3]=age\n",
        "a[4]=ten\n",
        "a[5]=bal\n",
        "a[6]=prod\n",
        "a[7]=card\n",
        "a[8]=act\n",
        "a[9]=sal\n",
        "\n",
        "output = model.predict([0])\n",
        "st.write('output ',output)"
      ],
      "metadata": {
        "colab": {
          "base_uri": "https://localhost:8080/"
        },
        "id": "qLN1qHK3cDf_",
        "outputId": "a6a01351-87ee-4871-a73e-c47052d0397d"
      },
      "execution_count": 9,
      "outputs": [
        {
          "output_type": "stream",
          "name": "stdout",
          "text": [
            "Overwriting app.py\n"
          ]
        }
      ]
    },
    {
      "cell_type": "code",
      "source": [
        "!pip install localtunnel"
      ],
      "metadata": {
        "colab": {
          "base_uri": "https://localhost:8080/"
        },
        "id": "A2atMEyDjvcy",
        "outputId": "ac334cff-66f7-4c6c-d25f-62047dcf4271"
      },
      "execution_count": 13,
      "outputs": [
        {
          "output_type": "stream",
          "name": "stdout",
          "text": [
            "\u001b[31mERROR: Could not find a version that satisfies the requirement localtunnel (from versions: none)\u001b[0m\u001b[31m\n",
            "\u001b[0m\u001b[31mERROR: No matching distribution found for localtunnel\u001b[0m\u001b[31m\n",
            "\u001b[0m"
          ]
        }
      ]
    },
    {
      "cell_type": "code",
      "source": [
        "!streamlit run /content/app.py &>/content/logs.txt&"
      ],
      "metadata": {
        "id": "Z9eBImi4cNru"
      },
      "execution_count": 14,
      "outputs": []
    },
    {
      "cell_type": "code",
      "source": [
        "!npx localtunnel --port 8501"
      ],
      "metadata": {
        "colab": {
          "base_uri": "https://localhost:8080/"
        },
        "id": "UrWqHLB6jiuh",
        "outputId": "b37e6bf7-d0d2-478c-f2ad-99e47bf49af9"
      },
      "execution_count": 22,
      "outputs": [
        {
          "output_type": "stream",
          "name": "stdout",
          "text": [
            "your url is: https://calm-streets-pick.loca.lt\n",
            "^C\n"
          ]
        }
      ]
    }
  ]
}